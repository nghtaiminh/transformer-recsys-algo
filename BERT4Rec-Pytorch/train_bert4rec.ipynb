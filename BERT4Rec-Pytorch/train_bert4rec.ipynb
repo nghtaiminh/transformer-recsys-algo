{
  "nbformat": 4,
  "nbformat_minor": 0,
  "metadata": {
    "colab": {
      "provenance": []
    },
    "kernelspec": {
      "name": "python3",
      "display_name": "Python 3"
    },
    "language_info": {
      "name": "python"
    },
    "accelerator": "GPU",
    "gpuClass": "standard"
  },
  "cells": [
    {
      "cell_type": "code",
      "execution_count": null,
      "metadata": {
        "colab": {
          "base_uri": "https://localhost:8080/"
        },
        "id": "RqxlhhjTc_kd",
        "outputId": "34c2f62e-c154-4aa5-b882-0c4ce6c2c80d"
      },
      "outputs": [
        {
          "output_type": "stream",
          "name": "stdout",
          "text": [
            "Sat Mar 11 04:21:10 2023       \n",
            "+-----------------------------------------------------------------------------+\n",
            "| NVIDIA-SMI 525.85.12    Driver Version: 525.85.12    CUDA Version: 12.0     |\n",
            "|-------------------------------+----------------------+----------------------+\n",
            "| GPU  Name        Persistence-M| Bus-Id        Disp.A | Volatile Uncorr. ECC |\n",
            "| Fan  Temp  Perf  Pwr:Usage/Cap|         Memory-Usage | GPU-Util  Compute M. |\n",
            "|                               |                      |               MIG M. |\n",
            "|===============================+======================+======================|\n",
            "|   0  Tesla T4            Off  | 00000000:00:04.0 Off |                    0 |\n",
            "| N/A   57C    P0    27W /  70W |      0MiB / 15360MiB |      0%      Default |\n",
            "|                               |                      |                  N/A |\n",
            "+-------------------------------+----------------------+----------------------+\n",
            "                                                                               \n",
            "+-----------------------------------------------------------------------------+\n",
            "| Processes:                                                                  |\n",
            "|  GPU   GI   CI        PID   Type   Process name                  GPU Memory |\n",
            "|        ID   ID                                                   Usage      |\n",
            "|=============================================================================|\n",
            "|  No running processes found                                                 |\n",
            "+-----------------------------------------------------------------------------+\n"
          ]
        }
      ],
      "source": [
        "!nvidia-smi"
      ]
    },
    {
      "cell_type": "code",
      "source": [
        "from google.colab import drive\n",
        "drive.mount('/content/drive')"
      ],
      "metadata": {
        "colab": {
          "base_uri": "https://localhost:8080/"
        },
        "id": "2tVI_CFedi8V",
        "outputId": "7afbc7c1-b4d1-4d6e-a5a0-53675e7ffef1"
      },
      "execution_count": null,
      "outputs": [
        {
          "output_type": "stream",
          "name": "stdout",
          "text": [
            "Mounted at /content/drive\n"
          ]
        }
      ]
    },
    {
      "cell_type": "code",
      "source": [
        "!ls"
      ],
      "metadata": {
        "colab": {
          "base_uri": "https://localhost:8080/"
        },
        "id": "G1ajocJFdpgt",
        "outputId": "351425ad-6cf2-4abb-f142-839929dfc951"
      },
      "execution_count": null,
      "outputs": [
        {
          "output_type": "stream",
          "name": "stdout",
          "text": [
            "drive  sample_data\n"
          ]
        }
      ]
    },
    {
      "cell_type": "code",
      "source": [
        "%cd drive/MyDrive/Thesis/notebooks/models/BERT4Rec-Pytorch"
      ],
      "metadata": {
        "colab": {
          "base_uri": "https://localhost:8080/"
        },
        "id": "PnUbMIL3ds2I",
        "outputId": "5eb8744f-362f-4b2c-a3ba-9df8c7b4d18e"
      },
      "execution_count": null,
      "outputs": [
        {
          "output_type": "stream",
          "name": "stdout",
          "text": [
            "/content/drive/MyDrive/Thesis/notebooks/models/BERT4Rec-Pytorch\n"
          ]
        }
      ]
    },
    {
      "cell_type": "code",
      "source": [
        "!pip install -r requirements.txt"
      ],
      "metadata": {
        "colab": {
          "base_uri": "https://localhost:8080/"
        },
        "id": "xIsTN_bhdwhC",
        "outputId": "4d26e5e5-57c1-46ad-9669-80e492ce2769"
      },
      "execution_count": null,
      "outputs": [
        {
          "output_type": "stream",
          "name": "stdout",
          "text": [
            "Looking in indexes: https://pypi.org/simple, https://us-python.pkg.dev/colab-wheels/public/simple/\n",
            "Collecting wget==3.2\n",
            "  Downloading wget-3.2.zip (10 kB)\n",
            "  Preparing metadata (setup.py) ... \u001b[?25l\u001b[?25hdone\n",
            "Collecting tqdm==4.36.1\n",
            "  Downloading tqdm-4.36.1-py2.py3-none-any.whl (52 kB)\n",
            "\u001b[2K     \u001b[90m━━━━━━━━━━━━━━━━━━━━━━━━━━━━━━━━━━━━━━━━\u001b[0m \u001b[32m52.8/52.8 KB\u001b[0m \u001b[31m3.5 MB/s\u001b[0m eta \u001b[36m0:00:00\u001b[0m\n",
            "\u001b[?25hCollecting numpy==1.16.2\n",
            "  Downloading numpy-1.16.2.zip (5.1 MB)\n",
            "\u001b[2K     \u001b[90m━━━━━━━━━━━━━━━━━━━━━━━━━━━━━━━━━━━━━━━━\u001b[0m \u001b[32m5.1/5.1 MB\u001b[0m \u001b[31m58.2 MB/s\u001b[0m eta \u001b[36m0:00:00\u001b[0m\n",
            "\u001b[?25h  Preparing metadata (setup.py) ... \u001b[?25l\u001b[?25hdone\n",
            "\u001b[31mERROR: Could not find a version that satisfies the requirement torch==1.4.0 (from versions: 1.7.1, 1.8.0, 1.8.1, 1.9.0, 1.9.1, 1.10.0, 1.10.1, 1.10.2, 1.11.0, 1.12.0, 1.12.1, 1.13.0, 1.13.1)\u001b[0m\u001b[31m\n",
            "\u001b[0m\u001b[31mERROR: No matching distribution found for torch==1.4.0\u001b[0m\u001b[31m\n",
            "\u001b[0m"
          ]
        }
      ]
    },
    {
      "cell_type": "code",
      "source": [
        "!pip install wget"
      ],
      "metadata": {
        "colab": {
          "base_uri": "https://localhost:8080/"
        },
        "id": "Hy-xBIP_dzAj",
        "outputId": "d8510751-a145-4fda-b06a-b548f26a07ec"
      },
      "execution_count": null,
      "outputs": [
        {
          "output_type": "stream",
          "name": "stdout",
          "text": [
            "Looking in indexes: https://pypi.org/simple, https://us-python.pkg.dev/colab-wheels/public/simple/\n",
            "Collecting wget\n",
            "  Downloading wget-3.2.zip (10 kB)\n",
            "  Preparing metadata (setup.py) ... \u001b[?25l\u001b[?25hdone\n",
            "Building wheels for collected packages: wget\n",
            "  Building wheel for wget (setup.py) ... \u001b[?25l\u001b[?25hdone\n",
            "  Created wheel for wget: filename=wget-3.2-py3-none-any.whl size=9674 sha256=485d3f1c8856e2ab140b2611cb1714cdaa8c7119d04e25a961ef4a1c355bbd3c\n",
            "  Stored in directory: /root/.cache/pip/wheels/04/5f/3e/46cc37c5d698415694d83f607f833f83f0149e49b3af9d0f38\n",
            "Successfully built wget\n",
            "Installing collected packages: wget\n",
            "Successfully installed wget-3.2\n"
          ]
        }
      ]
    },
    {
      "cell_type": "code",
      "source": [
        "!python main.py --template train_bert"
      ],
      "metadata": {
        "colab": {
          "base_uri": "https://localhost:8080/"
        },
        "id": "PmYFJ4Xwd7ad",
        "outputId": "c2353b8f-210b-4001-837d-bae621be7309"
      },
      "execution_count": null,
      "outputs": [
        {
          "output_type": "stream",
          "name": "stdout",
          "text": [
            "Folder created: /content/drive/MyDrive/Thesis/notebooks/models/BERT4Rec-Pytorch/experiments/test_2023-03-11_0\n",
            "{'anneal_cap': 0.2,\n",
            " 'bert_dropout': 0.4,\n",
            " 'bert_hidden_units': 256,\n",
            " 'bert_mask_prob': 0.5,\n",
            " 'bert_max_len': 100,\n",
            " 'bert_num_blocks': 2,\n",
            " 'bert_num_heads': 4,\n",
            " 'best_metric': 'NDCG@10',\n",
            " 'dataloader_code': 'bert',\n",
            " 'dataloader_random_seed': 0.0,\n",
            " 'dataset_code': 'AmazonBooks',\n",
            " 'dataset_split_seed': 98765,\n",
            " 'decay_step': 25,\n",
            " 'device': 'cuda',\n",
            " 'device_idx': '0',\n",
            " 'enable_lr_schedule': True,\n",
            " 'eval_set_size': 500,\n",
            " 'experiment_description': 'test',\n",
            " 'experiment_dir': 'experiments',\n",
            " 'find_best_beta': False,\n",
            " 'gamma': 1.0,\n",
            " 'log_period_as_iter': 12800,\n",
            " 'lr': 0.001,\n",
            " 'metric_ks': [10,\n",
            "               20],\n",
            " 'min_rating': 3,\n",
            " 'min_sc': 30,\n",
            " 'min_uc': 30,\n",
            " 'mode': 'train',\n",
            " 'model_code': 'bert',\n",
            " 'model_init_seed': 0,\n",
            " 'num_epochs': 100,\n",
            " 'num_gpu': 1,\n",
            " 'optimizer': 'Adam',\n",
            " 'split': 'leave_one_out',\n",
            " 'template': 'train_bert',\n",
            " 'test_batch_size': 128,\n",
            " 'test_negative_sample_size': 100,\n",
            " 'test_negative_sampler_code': 'random',\n",
            " 'test_negative_sampling_seed': 12345678,\n",
            " 'total_anneal_steps': 2000,\n",
            " 'train_batch_size': 128,\n",
            " 'train_negative_sample_size': 0,\n",
            " 'train_negative_sampler_code': 'random',\n",
            " 'train_negative_sampling_seed': 0,\n",
            " 'trainer_code': 'bert',\n",
            " 'val_batch_size': 128,\n",
            " 'weight_decay': 0}\n",
            "Already preprocessed. Skip preprocessing\n",
            "Negatives samples exist. Loading.\n",
            "Negatives samples exist. Loading.\n",
            "2023-03-11 04:25:18.357938: I tensorflow/core/platform/cpu_feature_guard.cc:193] This TensorFlow binary is optimized with oneAPI Deep Neural Network Library (oneDNN) to use the following CPU instructions in performance-critical operations:  AVX2 FMA\n",
            "To enable them in other operations, rebuild TensorFlow with the appropriate compiler flags.\n",
            "2023-03-11 04:25:19.314201: W tensorflow/compiler/xla/stream_executor/platform/default/dso_loader.cc:64] Could not load dynamic library 'libnvinfer.so.7'; dlerror: libnvinfer.so.7: cannot open shared object file: No such file or directory; LD_LIBRARY_PATH: /usr/lib64-nvidia\n",
            "2023-03-11 04:25:19.314306: W tensorflow/compiler/xla/stream_executor/platform/default/dso_loader.cc:64] Could not load dynamic library 'libnvinfer_plugin.so.7'; dlerror: libnvinfer_plugin.so.7: cannot open shared object file: No such file or directory; LD_LIBRARY_PATH: /usr/lib64-nvidia\n",
            "2023-03-11 04:25:19.314325: W tensorflow/compiler/tf2tensorrt/utils/py_utils.cc:38] TF-TRT Warning: Cannot dlopen some TensorRT libraries. If you would like to use Nvidia GPU with TensorRT, please make sure the missing libraries mentioned above are installed properly.\n",
            "Val: NDCG@10 0.044, NDCG@20 0.069, HR@10 0.096, HR@20 0.198: 100% 447/447 [00:57<00:00,  7.72it/s]\n",
            "Update Best NDCG@10 Model at 1\n",
            "/usr/local/lib/python3.9/dist-packages/torch/optim/lr_scheduler.py:138: UserWarning: Detected call of `lr_scheduler.step()` before `optimizer.step()`. In PyTorch 1.1.0 and later, you should call them in the opposite order: `optimizer.step()` before `lr_scheduler.step()`.  Failure to do this will result in PyTorch skipping the first value of the learning rate schedule. See more details at https://pytorch.org/docs/stable/optim.html#how-to-adjust-learning-rate\n",
            "  warnings.warn(\"Detected call of `lr_scheduler.step()` before `optimizer.step()`. \"\n",
            "Epoch 1, loss 10.952 : 100% 447/447 [03:13<00:00,  2.31it/s]\n",
            "Val: NDCG@10 0.258, NDCG@20 0.294, HR@10 0.427, HR@20 0.571: 100% 447/447 [00:54<00:00,  8.20it/s]\n",
            "Update Best NDCG@10 Model at 1\n",
            "Epoch 2, loss 10.407 : 100% 447/447 [03:13<00:00,  2.31it/s]\n",
            "Val: NDCG@10 0.336, NDCG@20 0.375, HR@10 0.549, HR@20 0.705: 100% 447/447 [00:54<00:00,  8.19it/s]\n",
            "Update Best NDCG@10 Model at 2\n",
            "Epoch 3, loss 9.843 : 100% 447/447 [03:13<00:00,  2.31it/s]\n",
            "Val: NDCG@10 0.376, NDCG@20 0.414, HR@10 0.605, HR@20 0.755: 100% 447/447 [00:54<00:00,  8.18it/s]\n",
            "Update Best NDCG@10 Model at 3\n",
            "Epoch 4, loss 9.524 : 100% 447/447 [03:13<00:00,  2.31it/s]\n",
            "Val: NDCG@10 0.407, NDCG@20 0.445, HR@10 0.639, HR@20 0.788: 100% 447/447 [00:54<00:00,  8.17it/s]\n",
            "Update Best NDCG@10 Model at 4\n",
            "Epoch 5, loss 9.298 : 100% 447/447 [03:13<00:00,  2.31it/s]\n",
            "Val: NDCG@10 0.450, NDCG@20 0.484, HR@10 0.688, HR@20 0.822: 100% 447/447 [00:54<00:00,  8.19it/s]\n",
            "Update Best NDCG@10 Model at 5\n",
            "Epoch 6, loss 9.125 : 100% 447/447 [03:13<00:00,  2.31it/s]\n",
            "Val: NDCG@10 0.472, NDCG@20 0.505, HR@10 0.711, HR@20 0.838: 100% 447/447 [00:54<00:00,  8.19it/s]\n",
            "Update Best NDCG@10 Model at 6\n",
            "Epoch 7, loss 8.982 : 100% 447/447 [03:13<00:00,  2.31it/s]\n",
            "Val: NDCG@10 0.494, NDCG@20 0.525, HR@10 0.734, HR@20 0.856: 100% 447/447 [00:54<00:00,  8.18it/s]\n",
            "Update Best NDCG@10 Model at 7\n",
            "Epoch 8, loss 8.839 : 100% 447/447 [03:13<00:00,  2.31it/s]\n",
            "Val: NDCG@10 0.515, NDCG@20 0.544, HR@10 0.751, HR@20 0.868: 100% 447/447 [00:54<00:00,  8.20it/s]\n",
            "Update Best NDCG@10 Model at 8\n",
            "Epoch 9, loss 8.699 : 100% 447/447 [03:13<00:00,  2.31it/s]\n",
            "Val: NDCG@10 0.533, NDCG@20 0.561, HR@10 0.769, HR@20 0.880: 100% 447/447 [00:54<00:00,  8.19it/s]\n",
            "Update Best NDCG@10 Model at 9\n",
            "Epoch 10, loss 8.581 : 100% 447/447 [03:13<00:00,  2.31it/s]\n",
            "Val: NDCG@10 0.550, NDCG@20 0.577, HR@10 0.781, HR@20 0.886: 100% 447/447 [00:54<00:00,  8.18it/s]\n",
            "Update Best NDCG@10 Model at 10\n",
            "Epoch 11, loss 8.485 : 100% 447/447 [03:13<00:00,  2.31it/s]\n",
            "Val: NDCG@10 0.559, NDCG@20 0.585, HR@10 0.788, HR@20 0.889: 100% 447/447 [00:54<00:00,  8.18it/s]\n",
            "Update Best NDCG@10 Model at 11\n",
            "Epoch 12, loss 8.401 : 100% 447/447 [03:13<00:00,  2.31it/s]\n",
            "Val: NDCG@10 0.584, NDCG@20 0.607, HR@10 0.805, HR@20 0.899: 100% 447/447 [00:54<00:00,  8.20it/s]\n",
            "Update Best NDCG@10 Model at 12\n",
            "Epoch 13, loss 8.331 : 100% 447/447 [03:13<00:00,  2.31it/s]\n",
            "Val: NDCG@10 0.588, NDCG@20 0.611, HR@10 0.815, HR@20 0.906: 100% 447/447 [00:54<00:00,  8.18it/s]\n",
            "Update Best NDCG@10 Model at 13\n",
            "Epoch 14, loss 8.267 : 100% 447/447 [03:13<00:00,  2.31it/s]\n",
            "Val: NDCG@10 0.603, NDCG@20 0.625, HR@10 0.824, HR@20 0.910: 100% 447/447 [00:54<00:00,  8.17it/s]\n",
            "Update Best NDCG@10 Model at 14\n",
            "Epoch 15, loss 8.212 : 100% 447/447 [03:13<00:00,  2.31it/s]\n",
            "Val: NDCG@10 0.607, NDCG@20 0.628, HR@10 0.826, HR@20 0.911: 100% 447/447 [00:54<00:00,  8.18it/s]\n",
            "Update Best NDCG@10 Model at 15\n",
            "Epoch 16, loss 8.158 : 100% 447/447 [03:13<00:00,  2.31it/s]\n",
            "Val: NDCG@10 0.616, NDCG@20 0.637, HR@10 0.834, HR@20 0.916: 100% 447/447 [00:54<00:00,  8.18it/s]\n",
            "Update Best NDCG@10 Model at 16\n",
            "Epoch 17, loss 8.118 : 100% 447/447 [03:13<00:00,  2.31it/s]\n",
            "Val: NDCG@10 0.624, NDCG@20 0.644, HR@10 0.841, HR@20 0.920: 100% 447/447 [00:54<00:00,  8.17it/s]\n",
            "Update Best NDCG@10 Model at 17\n",
            "Epoch 18, loss 8.070 : 100% 447/447 [03:13<00:00,  2.31it/s]\n",
            "Val: NDCG@10 0.628, NDCG@20 0.648, HR@10 0.843, HR@20 0.920: 100% 447/447 [00:54<00:00,  8.18it/s]\n",
            "Update Best NDCG@10 Model at 18\n",
            "Epoch 19, loss 8.043 : 100% 447/447 [03:13<00:00,  2.31it/s]\n",
            "Val: NDCG@10 0.630, NDCG@20 0.650, HR@10 0.845, HR@20 0.921: 100% 447/447 [00:54<00:00,  8.18it/s]\n",
            "Update Best NDCG@10 Model at 19\n",
            "Epoch 20, loss 8.010 : 100% 447/447 [03:13<00:00,  2.31it/s]\n",
            "Val: NDCG@10 0.637, NDCG@20 0.657, HR@10 0.849, HR@20 0.926: 100% 447/447 [00:54<00:00,  8.17it/s]\n",
            "Update Best NDCG@10 Model at 20\n",
            "Epoch 21, loss 7.981 : 100% 447/447 [03:13<00:00,  2.31it/s]\n",
            "Val: NDCG@10 0.637, NDCG@20 0.657, HR@10 0.850, HR@20 0.926: 100% 447/447 [00:54<00:00,  8.18it/s]\n",
            "Update Best NDCG@10 Model at 21\n",
            "Epoch 22, loss 7.955 : 100% 447/447 [03:13<00:00,  2.31it/s]\n",
            "Val: NDCG@10 0.644, NDCG@20 0.663, HR@10 0.855, HR@20 0.928: 100% 447/447 [00:54<00:00,  8.18it/s]\n",
            "Update Best NDCG@10 Model at 22\n",
            "Epoch 23, loss 7.933 : 100% 447/447 [03:13<00:00,  2.31it/s]\n",
            "Val: NDCG@10 0.648, NDCG@20 0.666, HR@10 0.856, HR@20 0.930: 100% 447/447 [00:54<00:00,  8.16it/s]\n",
            "Update Best NDCG@10 Model at 23\n",
            "Epoch 24, loss 7.912 : 100% 447/447 [03:13<00:00,  2.31it/s]\n",
            "Val: NDCG@10 0.652, NDCG@20 0.670, HR@10 0.859, HR@20 0.931: 100% 447/447 [00:54<00:00,  8.16it/s]\n",
            "Update Best NDCG@10 Model at 24\n",
            "Epoch 25, loss 7.890 : 100% 447/447 [03:13<00:00,  2.31it/s]\n",
            "Val: NDCG@10 0.653, NDCG@20 0.671, HR@10 0.860, HR@20 0.932: 100% 447/447 [00:54<00:00,  8.18it/s]\n",
            "Update Best NDCG@10 Model at 25\n",
            "Epoch 26, loss 7.871 : 100% 447/447 [03:13<00:00,  2.31it/s]\n",
            "Val: NDCG@10 0.658, NDCG@20 0.676, HR@10 0.864, HR@20 0.934: 100% 447/447 [00:54<00:00,  8.18it/s]\n",
            "Update Best NDCG@10 Model at 26\n",
            "Epoch 27, loss 7.855 : 100% 447/447 [03:13<00:00,  2.31it/s]\n",
            "Val: NDCG@10 0.656, NDCG@20 0.674, HR@10 0.865, HR@20 0.935: 100% 447/447 [00:54<00:00,  8.18it/s]\n",
            "Epoch 28, loss 7.836 : 100% 447/447 [03:13<00:00,  2.31it/s]\n",
            "Val: NDCG@10 0.658, NDCG@20 0.676, HR@10 0.864, HR@20 0.935: 100% 447/447 [00:54<00:00,  8.19it/s]\n",
            "Epoch 29, loss 7.821 : 100% 447/447 [03:13<00:00,  2.31it/s]\n",
            "Val: NDCG@10 0.662, NDCG@20 0.680, HR@10 0.866, HR@20 0.936: 100% 447/447 [00:54<00:00,  8.18it/s]\n",
            "Update Best NDCG@10 Model at 29\n",
            "Epoch 30, loss 7.810 : 100% 447/447 [03:13<00:00,  2.31it/s]\n",
            "Val: NDCG@10 0.663, NDCG@20 0.681, HR@10 0.866, HR@20 0.936: 100% 447/447 [00:54<00:00,  8.19it/s]\n",
            "Update Best NDCG@10 Model at 30\n",
            "Epoch 31, loss 7.794 : 100% 447/447 [03:13<00:00,  2.31it/s]\n",
            "Val: NDCG@10 0.665, NDCG@20 0.683, HR@10 0.869, HR@20 0.937: 100% 447/447 [00:54<00:00,  8.19it/s]\n",
            "Update Best NDCG@10 Model at 31\n",
            "Epoch 32, loss 7.784 : 100% 447/447 [03:13<00:00,  2.31it/s]\n",
            "Val: NDCG@10 0.667, NDCG@20 0.684, HR@10 0.870, HR@20 0.937: 100% 447/447 [00:54<00:00,  8.18it/s]\n",
            "Update Best NDCG@10 Model at 32\n",
            "Epoch 33, loss 7.764 : 100% 447/447 [03:13<00:00,  2.31it/s]\n",
            "Val: NDCG@10 0.672, NDCG@20 0.688, HR@10 0.872, HR@20 0.939: 100% 447/447 [00:54<00:00,  8.18it/s]\n",
            "Update Best NDCG@10 Model at 33\n",
            "Epoch 34, loss 7.753 : 100% 447/447 [03:13<00:00,  2.31it/s]\n",
            "Val: NDCG@10 0.671, NDCG@20 0.688, HR@10 0.871, HR@20 0.938: 100% 447/447 [00:54<00:00,  8.18it/s]\n",
            "Epoch 35, loss 7.741 : 100% 447/447 [03:13<00:00,  2.31it/s]\n",
            "Val: NDCG@10 0.677, NDCG@20 0.693, HR@10 0.876, HR@20 0.940: 100% 447/447 [00:54<00:00,  8.18it/s]\n",
            "Update Best NDCG@10 Model at 35\n",
            "Epoch 36, loss 7.729 : 100% 447/447 [03:13<00:00,  2.31it/s]\n",
            "Val: NDCG@10 0.676, NDCG@20 0.692, HR@10 0.874, HR@20 0.940: 100% 447/447 [00:54<00:00,  8.18it/s]\n",
            "Epoch 37, loss 7.717 : 100% 447/447 [03:13<00:00,  2.31it/s]\n",
            "Val: NDCG@10 0.677, NDCG@20 0.694, HR@10 0.876, HR@20 0.940: 100% 447/447 [00:54<00:00,  8.19it/s]\n",
            "Update Best NDCG@10 Model at 37\n",
            "Epoch 38, loss 7.712 : 100% 447/447 [03:13<00:00,  2.31it/s]\n",
            "Val: NDCG@10 0.678, NDCG@20 0.695, HR@10 0.876, HR@20 0.942: 100% 447/447 [00:54<00:00,  8.19it/s]\n",
            "Update Best NDCG@10 Model at 38\n",
            "Epoch 39, loss 7.702 : 100% 447/447 [03:13<00:00,  2.31it/s]\n",
            "Val: NDCG@10 0.681, NDCG@20 0.697, HR@10 0.878, HR@20 0.941: 100% 447/447 [00:54<00:00,  8.19it/s]\n",
            "Update Best NDCG@10 Model at 39\n",
            "Epoch 40, loss 7.690 : 100% 447/447 [03:13<00:00,  2.31it/s]\n",
            "Val: NDCG@10 0.679, NDCG@20 0.696, HR@10 0.877, HR@20 0.942: 100% 447/447 [00:54<00:00,  8.18it/s]\n",
            "Epoch 41, loss 7.675 : 100% 447/447 [03:13<00:00,  2.31it/s]\n",
            "Val: NDCG@10 0.682, NDCG@20 0.698, HR@10 0.879, HR@20 0.942: 100% 447/447 [00:54<00:00,  8.18it/s]\n",
            "Update Best NDCG@10 Model at 41\n",
            "Epoch 42, loss 7.665 : 100% 447/447 [03:13<00:00,  2.31it/s]\n",
            "Val: NDCG@10 0.683, NDCG@20 0.699, HR@10 0.880, HR@20 0.943: 100% 447/447 [00:54<00:00,  8.18it/s]\n",
            "Update Best NDCG@10 Model at 42\n",
            "Epoch 43, loss 7.658 : 100% 447/447 [03:13<00:00,  2.31it/s]\n",
            "Val: NDCG@10 0.681, NDCG@20 0.698, HR@10 0.878, HR@20 0.942: 100% 447/447 [00:54<00:00,  8.20it/s]\n",
            "Epoch 44, loss 7.652 : 100% 447/447 [03:13<00:00,  2.31it/s]\n",
            "Val: NDCG@10 0.685, NDCG@20 0.701, HR@10 0.881, HR@20 0.943: 100% 447/447 [00:54<00:00,  8.19it/s]\n",
            "Update Best NDCG@10 Model at 44\n",
            "Epoch 45, loss 7.639 : 100% 447/447 [03:13<00:00,  2.31it/s]\n",
            "Val: NDCG@10 0.684, NDCG@20 0.700, HR@10 0.880, HR@20 0.943: 100% 447/447 [00:54<00:00,  8.19it/s]\n",
            "Epoch 46, loss 7.632 : 100% 447/447 [03:13<00:00,  2.31it/s]\n",
            "Val: NDCG@10 0.686, NDCG@20 0.702, HR@10 0.882, HR@20 0.944: 100% 447/447 [00:54<00:00,  8.19it/s]\n",
            "Update Best NDCG@10 Model at 46\n",
            "Epoch 47, loss 7.619 : 100% 447/447 [03:13<00:00,  2.31it/s]\n",
            "Val: NDCG@10 0.686, NDCG@20 0.702, HR@10 0.880, HR@20 0.944: 100% 447/447 [00:54<00:00,  8.18it/s]\n",
            "Epoch 48, loss 7.612 : 100% 447/447 [03:13<00:00,  2.31it/s]\n",
            "Val: NDCG@10 0.689, NDCG@20 0.705, HR@10 0.883, HR@20 0.944: 100% 447/447 [00:54<00:00,  8.18it/s]\n",
            "Update Best NDCG@10 Model at 48\n",
            "Epoch 49, loss 7.607 : 100% 447/447 [03:13<00:00,  2.31it/s]\n",
            "Val: NDCG@10 0.690, NDCG@20 0.706, HR@10 0.883, HR@20 0.945: 100% 447/447 [00:54<00:00,  8.20it/s]\n",
            "Update Best NDCG@10 Model at 49\n",
            "Epoch 50, loss 7.597 : 100% 447/447 [03:13<00:00,  2.31it/s]\n",
            "Val: NDCG@10 0.692, NDCG@20 0.707, HR@10 0.885, HR@20 0.946: 100% 447/447 [00:54<00:00,  8.19it/s]\n",
            "Update Best NDCG@10 Model at 50\n",
            "Epoch 51, loss 7.590 : 100% 447/447 [03:13<00:00,  2.31it/s]\n",
            "Val: NDCG@10 0.692, NDCG@20 0.708, HR@10 0.885, HR@20 0.946: 100% 447/447 [00:54<00:00,  8.20it/s]\n",
            "Update Best NDCG@10 Model at 51\n",
            "Epoch 52, loss 7.579 : 100% 447/447 [03:13<00:00,  2.31it/s]\n",
            "Val: NDCG@10 0.692, NDCG@20 0.707, HR@10 0.885, HR@20 0.946: 100% 447/447 [00:54<00:00,  8.20it/s]\n",
            "Epoch 53, loss 7.579 : 100% 447/447 [03:13<00:00,  2.32it/s]\n",
            "Val: NDCG@10 0.694, NDCG@20 0.710, HR@10 0.885, HR@20 0.947: 100% 447/447 [00:54<00:00,  8.19it/s]\n",
            "Update Best NDCG@10 Model at 53\n",
            "Epoch 54, loss 7.574 : 100% 447/447 [03:13<00:00,  2.31it/s]\n",
            "Val: NDCG@10 0.691, NDCG@20 0.707, HR@10 0.886, HR@20 0.946: 100% 447/447 [00:54<00:00,  8.19it/s]\n",
            "Epoch 55, loss 7.563 : 100% 447/447 [03:13<00:00,  2.31it/s]\n",
            "Val: NDCG@10 0.695, NDCG@20 0.711, HR@10 0.887, HR@20 0.947: 100% 447/447 [00:54<00:00,  8.18it/s]\n",
            "Update Best NDCG@10 Model at 55\n",
            "Epoch 56, loss 7.555 : 100% 447/447 [03:13<00:00,  2.31it/s]\n",
            "Val: NDCG@10 0.693, NDCG@20 0.709, HR@10 0.885, HR@20 0.946: 100% 447/447 [00:54<00:00,  8.18it/s]\n",
            "Epoch 57, loss 7.554 : 100% 447/447 [03:13<00:00,  2.31it/s]\n",
            "Val: NDCG@10 0.695, NDCG@20 0.710, HR@10 0.887, HR@20 0.948: 100% 447/447 [00:54<00:00,  8.19it/s]\n",
            "Epoch 58, loss 7.546 : 100% 447/447 [03:13<00:00,  2.32it/s]\n",
            "Val: NDCG@10 0.693, NDCG@20 0.709, HR@10 0.885, HR@20 0.947: 100% 447/447 [00:54<00:00,  8.20it/s]\n",
            "Epoch 59, loss 7.537 : 100% 447/447 [03:13<00:00,  2.31it/s]\n",
            "Val: NDCG@10 0.699, NDCG@20 0.714, HR@10 0.889, HR@20 0.948: 100% 447/447 [00:54<00:00,  8.19it/s]\n",
            "Update Best NDCG@10 Model at 59\n",
            "Epoch 60, loss 7.531 : 100% 447/447 [03:13<00:00,  2.31it/s]\n",
            "Val: NDCG@10 0.698, NDCG@20 0.713, HR@10 0.889, HR@20 0.948: 100% 447/447 [00:54<00:00,  8.21it/s]\n",
            "Epoch 61, loss 7.528 : 100% 447/447 [03:13<00:00,  2.31it/s]\n",
            "Val: NDCG@10 0.701, NDCG@20 0.716, HR@10 0.890, HR@20 0.950: 100% 447/447 [00:54<00:00,  8.20it/s]\n",
            "Update Best NDCG@10 Model at 61\n",
            "Epoch 62, loss 7.522 : 100% 447/447 [03:13<00:00,  2.31it/s]\n",
            "Val: NDCG@10 0.699, NDCG@20 0.714, HR@10 0.888, HR@20 0.948: 100% 447/447 [00:54<00:00,  8.19it/s]\n",
            "Epoch 63, loss 7.517 : 100% 447/447 [03:13<00:00,  2.31it/s]\n",
            "Val: NDCG@10 0.699, NDCG@20 0.714, HR@10 0.890, HR@20 0.949: 100% 447/447 [00:54<00:00,  8.20it/s]\n",
            "Epoch 64, loss 7.511 : 100% 447/447 [03:13<00:00,  2.31it/s]\n",
            "Val: NDCG@10 0.698, NDCG@20 0.714, HR@10 0.890, HR@20 0.950: 100% 447/447 [00:54<00:00,  8.20it/s]\n",
            "Epoch 65, loss 7.505 : 100% 447/447 [03:13<00:00,  2.31it/s]\n",
            "Val: NDCG@10 0.703, NDCG@20 0.718, HR@10 0.891, HR@20 0.950: 100% 447/447 [00:54<00:00,  8.19it/s]\n",
            "Update Best NDCG@10 Model at 65\n",
            "Epoch 66, loss 7.502 : 100% 447/447 [03:13<00:00,  2.31it/s]\n",
            "Val: NDCG@10 0.702, NDCG@20 0.717, HR@10 0.890, HR@20 0.949: 100% 447/447 [00:54<00:00,  8.19it/s]\n",
            "Epoch 67, loss 7.494 : 100% 447/447 [03:13<00:00,  2.32it/s]\n",
            "Val: NDCG@10 0.702, NDCG@20 0.717, HR@10 0.890, HR@20 0.949: 100% 447/447 [00:54<00:00,  8.20it/s]\n",
            "Epoch 68, loss 7.486 : 100% 447/447 [03:13<00:00,  2.31it/s]\n",
            "Val: NDCG@10 0.701, NDCG@20 0.717, HR@10 0.890, HR@20 0.950: 100% 447/447 [00:54<00:00,  8.20it/s]\n",
            "Epoch 69, loss 7.483 : 100% 447/447 [03:13<00:00,  2.31it/s]\n",
            "Val: NDCG@10 0.700, NDCG@20 0.716, HR@10 0.889, HR@20 0.950: 100% 447/447 [00:54<00:00,  8.20it/s]\n",
            "Epoch 70, loss 7.482 : 100% 447/447 [03:13<00:00,  2.32it/s]\n",
            "Val: NDCG@10 0.704, NDCG@20 0.719, HR@10 0.892, HR@20 0.950: 100% 447/447 [00:54<00:00,  8.19it/s]\n",
            "Update Best NDCG@10 Model at 70\n",
            "Epoch 71, loss 7.473 : 100% 447/447 [03:13<00:00,  2.31it/s]\n",
            "Val: NDCG@10 0.705, NDCG@20 0.720, HR@10 0.892, HR@20 0.950: 100% 447/447 [00:54<00:00,  8.21it/s]\n",
            "Update Best NDCG@10 Model at 71\n",
            "Epoch 72, loss 7.468 : 100% 447/447 [03:13<00:00,  2.31it/s]\n",
            "Val: NDCG@10 0.702, NDCG@20 0.718, HR@10 0.890, HR@20 0.950: 100% 447/447 [00:54<00:00,  8.20it/s]\n",
            "Epoch 73, loss 7.466 : 100% 447/447 [03:13<00:00,  2.31it/s]\n",
            "Val: NDCG@10 0.704, NDCG@20 0.719, HR@10 0.892, HR@20 0.950: 100% 447/447 [00:54<00:00,  8.22it/s]\n",
            "Epoch 74, loss 7.458 : 100% 447/447 [03:13<00:00,  2.31it/s]\n",
            "Val: NDCG@10 0.704, NDCG@20 0.719, HR@10 0.891, HR@20 0.950: 100% 447/447 [00:54<00:00,  8.21it/s]\n",
            "Epoch 75, loss 7.455 : 100% 447/447 [03:13<00:00,  2.31it/s]\n",
            "Val: NDCG@10 0.703, NDCG@20 0.718, HR@10 0.891, HR@20 0.950: 100% 447/447 [00:54<00:00,  8.19it/s]\n",
            "Epoch 76, loss 7.449 : 100% 447/447 [03:13<00:00,  2.31it/s]\n",
            "Val: NDCG@10 0.704, NDCG@20 0.719, HR@10 0.891, HR@20 0.950: 100% 447/447 [00:54<00:00,  8.20it/s]\n",
            "Epoch 77, loss 7.447 : 100% 447/447 [03:13<00:00,  2.31it/s]\n",
            "Val: NDCG@10 0.705, NDCG@20 0.720, HR@10 0.892, HR@20 0.950: 100% 447/447 [00:54<00:00,  8.20it/s]\n",
            "Update Best NDCG@10 Model at 77\n",
            "Epoch 78, loss 7.443 : 100% 447/447 [03:13<00:00,  2.31it/s]\n",
            "Val: NDCG@10 0.703, NDCG@20 0.718, HR@10 0.890, HR@20 0.950: 100% 447/447 [00:54<00:00,  8.20it/s]\n",
            "Epoch 79, loss 7.438 : 100% 447/447 [03:13<00:00,  2.31it/s]\n",
            "Val: NDCG@10 0.706, NDCG@20 0.721, HR@10 0.893, HR@20 0.950: 100% 447/447 [00:54<00:00,  8.19it/s]\n",
            "Update Best NDCG@10 Model at 79\n",
            "Epoch 80, loss 7.435 : 100% 447/447 [03:13<00:00,  2.31it/s]\n",
            "Val: NDCG@10 0.706, NDCG@20 0.721, HR@10 0.893, HR@20 0.951: 100% 447/447 [00:54<00:00,  8.20it/s]\n",
            "Update Best NDCG@10 Model at 80\n",
            "Epoch 81, loss 7.429 : 100% 447/447 [03:13<00:00,  2.31it/s]\n",
            "Val: NDCG@10 0.706, NDCG@20 0.721, HR@10 0.893, HR@20 0.950: 100% 447/447 [00:54<00:00,  8.20it/s]\n",
            "Epoch 82, loss 7.424 : 100% 447/447 [03:13<00:00,  2.31it/s]\n",
            "Val: NDCG@10 0.706, NDCG@20 0.721, HR@10 0.892, HR@20 0.951: 100% 447/447 [00:54<00:00,  8.20it/s]\n",
            "Epoch 83, loss 7.423 : 100% 447/447 [03:13<00:00,  2.31it/s]\n",
            "Val: NDCG@10 0.706, NDCG@20 0.721, HR@10 0.893, HR@20 0.951: 100% 447/447 [00:54<00:00,  8.22it/s]\n",
            "Epoch 84, loss 7.420 : 100% 447/447 [03:13<00:00,  2.31it/s]\n",
            "Val: NDCG@10 0.707, NDCG@20 0.722, HR@10 0.893, HR@20 0.951: 100% 447/447 [00:54<00:00,  8.19it/s]\n",
            "Update Best NDCG@10 Model at 84\n",
            "Epoch 85, loss 7.418 : 100% 447/447 [03:13<00:00,  2.31it/s]\n",
            "Val: NDCG@10 0.707, NDCG@20 0.722, HR@10 0.893, HR@20 0.952: 100% 447/447 [00:54<00:00,  8.20it/s]\n",
            "Epoch 86, loss 7.411 : 100% 447/447 [03:13<00:00,  2.32it/s]\n",
            "Val: NDCG@10 0.711, NDCG@20 0.725, HR@10 0.896, HR@20 0.953: 100% 447/447 [00:54<00:00,  8.19it/s]\n",
            "Update Best NDCG@10 Model at 86\n",
            "Epoch 87, loss 7.407 : 100% 447/447 [03:13<00:00,  2.31it/s]\n",
            "Val: NDCG@10 0.709, NDCG@20 0.724, HR@10 0.894, HR@20 0.952: 100% 447/447 [00:54<00:00,  8.21it/s]\n",
            "Epoch 88, loss 7.402 : 100% 447/447 [03:13<00:00,  2.31it/s]\n",
            "Val: NDCG@10 0.708, NDCG@20 0.723, HR@10 0.894, HR@20 0.952: 100% 447/447 [00:54<00:00,  8.21it/s]\n",
            "Epoch 89, loss 7.398 : 100% 447/447 [03:13<00:00,  2.31it/s]\n",
            "Val: NDCG@10 0.709, NDCG@20 0.723, HR@10 0.896, HR@20 0.952: 100% 447/447 [00:54<00:00,  8.19it/s]\n",
            "Epoch 90, loss 7.394 : 100% 447/447 [03:13<00:00,  2.31it/s]\n",
            "Val: NDCG@10 0.710, NDCG@20 0.725, HR@10 0.895, HR@20 0.952: 100% 447/447 [00:54<00:00,  8.20it/s]\n",
            "Epoch 91, loss 7.391 : 100% 447/447 [03:13<00:00,  2.31it/s]\n",
            "Val: NDCG@10 0.708, NDCG@20 0.723, HR@10 0.894, HR@20 0.952: 100% 447/447 [00:54<00:00,  8.19it/s]\n",
            "Epoch 92, loss 7.388 : 100% 447/447 [03:13<00:00,  2.31it/s]\n",
            "Val: NDCG@10 0.708, NDCG@20 0.723, HR@10 0.894, HR@20 0.951: 100% 447/447 [00:54<00:00,  8.20it/s]\n",
            "Epoch 93, loss 7.383 : 100% 447/447 [03:13<00:00,  2.32it/s]\n",
            "Val: NDCG@10 0.708, NDCG@20 0.723, HR@10 0.894, HR@20 0.952: 100% 447/447 [00:54<00:00,  8.20it/s]\n",
            "Epoch 94, loss 7.381 : 100% 447/447 [03:13<00:00,  2.31it/s]\n",
            "Val: NDCG@10 0.710, NDCG@20 0.725, HR@10 0.895, HR@20 0.952: 100% 447/447 [00:54<00:00,  8.19it/s]\n",
            "Epoch 95, loss 7.379 : 100% 447/447 [03:13<00:00,  2.31it/s]\n",
            "Val: NDCG@10 0.711, NDCG@20 0.726, HR@10 0.896, HR@20 0.953: 100% 447/447 [00:54<00:00,  8.19it/s]\n",
            "Update Best NDCG@10 Model at 95\n",
            "Epoch 96, loss 7.373 : 100% 447/447 [03:13<00:00,  2.31it/s]\n",
            "Val: NDCG@10 0.710, NDCG@20 0.725, HR@10 0.895, HR@20 0.951: 100% 447/447 [00:54<00:00,  8.21it/s]\n",
            "Epoch 97, loss 7.367 : 100% 447/447 [03:13<00:00,  2.32it/s]\n",
            "Val: NDCG@10 0.707, NDCG@20 0.722, HR@10 0.894, HR@20 0.951: 100% 447/447 [00:54<00:00,  8.20it/s]\n",
            "Epoch 98, loss 7.366 : 100% 447/447 [03:13<00:00,  2.31it/s]\n",
            "Val: NDCG@10 0.709, NDCG@20 0.724, HR@10 0.894, HR@20 0.951: 100% 447/447 [00:54<00:00,  8.20it/s]\n",
            "Epoch 99, loss 7.363 : 100% 447/447 [03:13<00:00,  2.31it/s]\n",
            "Val: NDCG@10 0.712, NDCG@20 0.726, HR@10 0.896, HR@20 0.953: 100% 447/447 [00:54<00:00,  8.20it/s]\n",
            "Update Best NDCG@10 Model at 99\n",
            "Epoch 100, loss 7.360 : 100% 447/447 [03:13<00:00,  2.31it/s]\n",
            "Val: NDCG@10 0.711, NDCG@20 0.726, HR@10 0.895, HR@20 0.953: 100% 447/447 [00:54<00:00,  8.19it/s]\n",
            "Test best model with test set!\n",
            "Val: NDCG@10 0.647, NDCG@20 0.665, HR@10 0.851, HR@20 0.922: 100% 447/447 [00:54<00:00,  8.14it/s]\n",
            "{'HR@20': 0.9221092003837261, 'NDCG@20': 0.6652927620032223, 'HR@10': 0.8508762118533687, 'NDCG@10': 0.6471490418617624}\n"
          ]
        }
      ]
    },
    {
      "cell_type": "code",
      "source": [],
      "metadata": {
        "id": "6zL7gzwjeVTr"
      },
      "execution_count": null,
      "outputs": []
    }
  ]
}